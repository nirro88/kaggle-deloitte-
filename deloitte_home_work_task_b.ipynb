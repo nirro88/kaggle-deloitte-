{
 "cells": [
  {
   "cell_type": "markdown",
   "metadata": {},
   "source": [
    "## get reviews details about a doctor\n",
    "### the methodology:\n",
    "#### for every doctor - search and find the residential using the npi key\n",
    "#### for every doctor name and location - search and find reviews\n",
    "\n",
    "#### some obstacles in the way :\n",
    "#### 1. a lot of websites have protection against web-scraping.\n",
    "#### 2. not every doctor have review in the website you search."
   ]
  },
  {
   "cell_type": "code",
   "execution_count": 234,
   "metadata": {},
   "outputs": [],
   "source": [
    "import pandas as pd\n",
    "from bs4 import BeautifulSoup\n",
    "import requests\n",
    "from selenium import webdriver\n",
    "from selenium.webdriver.common.keys import Keys\n",
    "from selenium.webdriver.common.by import By\n",
    "from selenium.webdriver.support.wait import WebDriverWait\n",
    "from selenium.webdriver.support import expected_conditions as EC\n",
    "import time\n"
   ]
  },
  {
   "cell_type": "code",
   "execution_count": 305,
   "metadata": {},
   "outputs": [
    {
     "data": {
      "text/html": [
       "<div>\n",
       "<style scoped>\n",
       "    .dataframe tbody tr th:only-of-type {\n",
       "        vertical-align: middle;\n",
       "    }\n",
       "\n",
       "    .dataframe tbody tr th {\n",
       "        vertical-align: top;\n",
       "    }\n",
       "\n",
       "    .dataframe thead th {\n",
       "        text-align: right;\n",
       "    }\n",
       "</style>\n",
       "<table border=\"1\" class=\"dataframe\">\n",
       "  <thead>\n",
       "    <tr style=\"text-align: right;\">\n",
       "      <th></th>\n",
       "      <th>Last Name</th>\n",
       "      <th>First Name</th>\n",
       "      <th>NPI</th>\n",
       "      <th>first_and_last</th>\n",
       "    </tr>\n",
       "  </thead>\n",
       "  <tbody>\n",
       "    <tr>\n",
       "      <th>0</th>\n",
       "      <td>EARNEST</td>\n",
       "      <td>MELISSA</td>\n",
       "      <td>1023154903</td>\n",
       "      <td>MELISSA EARNEST</td>\n",
       "    </tr>\n",
       "    <tr>\n",
       "      <th>1</th>\n",
       "      <td>Jones</td>\n",
       "      <td>Jason</td>\n",
       "      <td>1548430291</td>\n",
       "      <td>Jason Jones</td>\n",
       "    </tr>\n",
       "  </tbody>\n",
       "</table>\n",
       "</div>"
      ],
      "text/plain": [
       "  Last Name First Name         NPI   first_and_last\n",
       "0   EARNEST    MELISSA  1023154903  MELISSA EARNEST\n",
       "1     Jones      Jason  1548430291      Jason Jones"
      ]
     },
     "execution_count": 305,
     "metadata": {},
     "output_type": "execute_result"
    }
   ],
   "source": [
    "# upload initial data\n",
    "initial_data_df = pd.read_excel(r'C:\\Users\\nirro\\Downloads\\deloitte\\NPI_initial.xlsx')\n",
    "initial_data_df['first_and_last'] = initial_data_df['First Name'].values + ' ' +initial_data_df['Last Name'].values\n",
    "# initial_data_df['location'] = 'us'\n",
    "initial_data_df.head(5)"
   ]
  },
  {
   "cell_type": "markdown",
   "metadata": {},
   "source": [
    "### get location of doctor by npi number "
   ]
  },
  {
   "cell_type": "code",
   "execution_count": 307,
   "metadata": {},
   "outputs": [
    {
     "name": "stdout",
     "output_type": "stream",
     "text": [
      "{1023154903: 'MENOMONEE FALLS  WI', 1548430291: 'NASHVILLE  TN'}\n"
     ]
    }
   ],
   "source": [
    "d = webdriver.Chrome()\n",
    "npidict = {}\n",
    "\n",
    "for npi in initial_data_df['NPI'].values:\n",
    "    d.get('https://www.hipaaspace.com/')\n",
    "    # search using first and last names\n",
    "    e = d.find_element(By.ID, 'tbxSearchRequest') \n",
    "    e.send_keys(str(npi))\n",
    "\n",
    "    e.send_keys(Keys.ENTER)\n",
    "    time.sleep(1)\n",
    "    e = d.find_element(By.XPATH,\"//div[@style='margin: 0px 0px 10px 15px']\").text.replace('\\n',',').split(',')\n",
    "    \n",
    "    time.sleep(1)\n",
    "    npidict[npi] = f'{e[1]} {e[2]}'\n",
    "\n",
    "print(npidict)\n",
    "d.quit()\n"
   ]
  },
  {
   "cell_type": "code",
   "execution_count": null,
   "metadata": {},
   "outputs": [],
   "source": [
    "#add column location\n",
    "initial_data_df['location'] = [npidict[npi] for npi in initial_data_df['NPI'].values]\n",
    "initial_data_df.head(5)"
   ]
  },
  {
   "cell_type": "markdown",
   "metadata": {},
   "source": [
    "### add a new list (doctor with reviews)"
   ]
  },
  {
   "cell_type": "code",
   "execution_count": 312,
   "metadata": {},
   "outputs": [
    {
     "data": {
      "text/html": [
       "<div>\n",
       "<style scoped>\n",
       "    .dataframe tbody tr th:only-of-type {\n",
       "        vertical-align: middle;\n",
       "    }\n",
       "\n",
       "    .dataframe tbody tr th {\n",
       "        vertical-align: top;\n",
       "    }\n",
       "\n",
       "    .dataframe thead th {\n",
       "        text-align: right;\n",
       "    }\n",
       "</style>\n",
       "<table border=\"1\" class=\"dataframe\">\n",
       "  <thead>\n",
       "    <tr style=\"text-align: right;\">\n",
       "      <th></th>\n",
       "      <th>Last Name</th>\n",
       "      <th>First Name</th>\n",
       "      <th>NPI</th>\n",
       "      <th>first_and_last</th>\n",
       "      <th>location</th>\n",
       "    </tr>\n",
       "  </thead>\n",
       "  <tbody>\n",
       "    <tr>\n",
       "      <th>0</th>\n",
       "      <td>EARNEST</td>\n",
       "      <td>MELISSA</td>\n",
       "      <td>1023154903</td>\n",
       "      <td>MELISSA EARNEST</td>\n",
       "      <td>MENOMONEE FALLS  WI</td>\n",
       "    </tr>\n",
       "    <tr>\n",
       "      <th>1</th>\n",
       "      <td>Jones</td>\n",
       "      <td>Jason</td>\n",
       "      <td>1548430291</td>\n",
       "      <td>Jason Jones</td>\n",
       "      <td>NASHVILLE  TN</td>\n",
       "    </tr>\n",
       "    <tr>\n",
       "      <th>0</th>\n",
       "      <td>Tarango</td>\n",
       "      <td>Sonia</td>\n",
       "      <td>111111111</td>\n",
       "      <td>Sonia Tarango</td>\n",
       "      <td>San Antonio, TX</td>\n",
       "    </tr>\n",
       "    <tr>\n",
       "      <th>0</th>\n",
       "      <td>Tarango</td>\n",
       "      <td>Sonia</td>\n",
       "      <td>1111111111</td>\n",
       "      <td>Sonia Tarango</td>\n",
       "      <td>San Antonio, TX</td>\n",
       "    </tr>\n",
       "  </tbody>\n",
       "</table>\n",
       "</div>"
      ],
      "text/plain": [
       "  Last Name First Name         NPI   first_and_last             location\n",
       "0   EARNEST    MELISSA  1023154903  MELISSA EARNEST  MENOMONEE FALLS  WI\n",
       "1     Jones      Jason  1548430291      Jason Jones        NASHVILLE  TN\n",
       "0   Tarango      Sonia   111111111    Sonia Tarango      San Antonio, TX\n",
       "0   Tarango      Sonia  1111111111    Sonia Tarango      San Antonio, TX"
      ]
     },
     "execution_count": 312,
     "metadata": {},
     "output_type": "execute_result"
    }
   ],
   "source": [
    "\n",
    "# add new row for reference\n",
    "df_new_row =pd.DataFrame({'Last Name':'Tarango','First Name':'Sonia','NPI':'1111111111','first_and_last':'Sonia Tarango','location':'San Antonio, TX'},index=[0])\n",
    "initial_data_df = initial_data_df.append(df_new_row)\n",
    "initial_data_df.head(5)"
   ]
  },
  {
   "cell_type": "markdown",
   "metadata": {},
   "source": [
    "###  find a doctor urls using name and location"
   ]
  },
  {
   "cell_type": "code",
   "execution_count": 313,
   "metadata": {},
   "outputs": [
    {
     "name": "stdout",
     "output_type": "stream",
     "text": [
      "doctor MELISSA EARNEST url is: https://www.caredash.com/doctors/melissa-earnest-md-menomonee-falls-wi\n",
      "doctor Jason Jones url is: https://www.caredash.com/doctors/jason-jones-md-nashville-tn\n",
      "doctor Sonia Tarango url is: https://www.caredash.com/doctors/sonia-tarango-lfswd\n",
      "doctor Sonia Tarango url is: https://www.caredash.com/doctors/sonia-tarango-lfswd\n"
     ]
    }
   ],
   "source": [
    "# using search bar to find a doctor reviews\n",
    "\n",
    "d = webdriver.Chrome()\n",
    "# names = ['Sonia Tarango','EARNEST MELISSA']\n",
    "# locations =['San Antonio, TX','us']\n",
    "urlist = []\n",
    "# for name,locat in zip(names,locations):\n",
    "for name,locat in zip(initial_data_df['first_and_last'].values,initial_data_df['location'].values):  \n",
    "    d.get('https://www.caredash.com')\n",
    "    # search using first and last names\n",
    "    e = d.find_element(By.ID, 'providers_search_query') \n",
    "    e.send_keys(name)\n",
    "    \n",
    "    # search using location\n",
    "    e = d.find_element(By.ID, 'providers_search_location') \n",
    "#     e2.send_Keys(Keys.chord(Keys.CONTROL, \"a\"), \"55\")\n",
    "    e.clear()\n",
    "    e.send_keys(locat)\n",
    "    e.send_keys(Keys.ENTER)\n",
    "\n",
    "#     print(d.current_url)\n",
    "#     d.find_element(By.CLASS_NAME,\"srl-item-name no-margin\").Click()\n",
    "    delay = 20 # seconds\n",
    "    time.sleep(5)\n",
    "    e3 = d.find_element(By.XPATH,\"//span[@class='cd1-name']\")\n",
    "    e3.click()\n",
    "    time.sleep(5)\n",
    "#     new_url = str(d.current_url)\n",
    "    window_new = d.window_handles[-1]\n",
    "    d.switch_to.window(window_new)\n",
    "    new_url = str(d.current_url)\n",
    "    print(f'doctor {name} url is: {new_url}')\n",
    "    urlist.append(new_url)\n",
    "    time.sleep(5)\n",
    "d.quit()\n"
   ]
  },
  {
   "cell_type": "markdown",
   "metadata": {},
   "source": [
    "### get reviews for each doctor"
   ]
  },
  {
   "cell_type": "code",
   "execution_count": 322,
   "metadata": {},
   "outputs": [
    {
     "name": "stdout",
     "output_type": "stream",
     "text": [
      "[('July 15, 2019', 'LKC', 'Verified Reviewer', '1 Review', 'San Antonio, TX')]\n",
      "[(4, 'I meet Dr. Sonia Tarango at the University Heath Clinic and I feel that we will get along good as a patient and doctor meeting . But it was hard to get her to refill a medication that I had to have .', {'Communication': 5, 'Scheduling': 5, 'Staff': 5, 'Treatment': 5, 'Bedside Manner': 4}, 'Wait Time: 15 to 30 minutes'), (4, 'She was very helpful and nice', {'Communication': 5, 'Scheduling': 5, 'Staff': 5, 'Treatment': 5, 'Bedside Manner': 5}, 'Wait Time: 31 to 45 minutes'), '3.6']\n",
      "--------------------\n",
      "[('July 15, 2019', 'LKC', 'Verified Reviewer', '1 Review', 'San Antonio, TX'), ('May 10, 2019', 'Deb', 'Verified Reviewer', '1 Review', 'San Antonio, TX')]\n",
      "[(4, 'I meet Dr. Sonia Tarango at the University Heath Clinic and I feel that we will get along good as a patient and doctor meeting . But it was hard to get her to refill a medication that I had to have .', {'Communication': 5, 'Scheduling': 5, 'Staff': 5, 'Treatment': 5, 'Bedside Manner': 4}, 'Wait Time: 15 to 30 minutes'), (4, 'She was very helpful and nice', {'Communication': 5, 'Scheduling': 5, 'Staff': 5, 'Treatment': 5, 'Bedside Manner': 5}, 'Wait Time: 31 to 45 minutes'), '3.6']\n",
      "--------------------\n",
      "[('July 15, 2019', 'LKC', 'Verified Reviewer', '1 Review', 'San Antonio, TX')]\n",
      "[(4, 'I meet Dr. Sonia Tarango at the University Heath Clinic and I feel that we will get along good as a patient and doctor meeting . But it was hard to get her to refill a medication that I had to have .', {'Communication': 5, 'Scheduling': 5, 'Staff': 5, 'Treatment': 5, 'Bedside Manner': 4}, 'Wait Time: 15 to 30 minutes'), (4, 'She was very helpful and nice', {'Communication': 5, 'Scheduling': 5, 'Staff': 5, 'Treatment': 5, 'Bedside Manner': 5}, 'Wait Time: 31 to 45 minutes'), '3.6']\n",
      "--------------------\n",
      "[('July 15, 2019', 'LKC', 'Verified Reviewer', '1 Review', 'San Antonio, TX'), ('May 10, 2019', 'Deb', 'Verified Reviewer', '1 Review', 'San Antonio, TX')]\n",
      "[(4, 'I meet Dr. Sonia Tarango at the University Heath Clinic and I feel that we will get along good as a patient and doctor meeting . But it was hard to get her to refill a medication that I had to have .', {'Communication': 5, 'Scheduling': 5, 'Staff': 5, 'Treatment': 5, 'Bedside Manner': 4}, 'Wait Time: 15 to 30 minutes'), (4, 'She was very helpful and nice', {'Communication': 5, 'Scheduling': 5, 'Staff': 5, 'Treatment': 5, 'Bedside Manner': 5}, 'Wait Time: 31 to 45 minutes'), '3.6']\n",
      "--------------------\n"
     ]
    }
   ],
   "source": [
    "# read reviews of doctor\n",
    "for doc_url in urlist:\n",
    "\n",
    "    html_request = requests.get(doc_url).text\n",
    "    # print(html_request)\n",
    "\n",
    "    soup = BeautifulSoup(html_request,'lxml')\n",
    "    # print(soup)\n",
    "    # get review details\n",
    "\n",
    "    list_reviewer_detail = soup.find_all('div',class_='review-item-name')\n",
    "#     print(list_reviewer_detail)\n",
    "    list_reviews_detail_final = []\n",
    "    for review_detail in list_reviewer_detail:\n",
    "        reviewer_date = review_detail.find('p',class_='reviewer-date no-margin').text.replace('\\n',\"\")\n",
    "        reviewer_name = review_detail.find('p',class_='reviewer-name no-margin text-truncate').text.replace('\\n',\"\").replace(' ',\"\").strip()\n",
    "        reviewer_verified = review_detail.find('p',class_='reviewer-status no-margin').text.replace('\\n',\"\")\n",
    "        reviewer_number_reviews = review_detail.find('p',class_='reviewer-number no-margin').text.replace('\\n',\"\")\n",
    "        reviewer_location = review_detail.find('p',class_='reviewer-address no-margin').text.replace('\\n',\"\")\n",
    "\n",
    "    #     print(f'date: {reviewer_date}')\n",
    "    #     print(f'name: {reviewer_name}')\n",
    "    #     print(f'verification: {reviewer_verified}')\n",
    "    #     print(f'number of reviews: {reviewer_number_reviews}')\n",
    "    #     print(f'location: {reviewer_location}')\n",
    "        list_reviews_detail_final.append((reviewer_date,reviewer_name,reviewer_verified,reviewer_number_reviews,reviewer_location))\n",
    "    if len(list_reviews_detail_final) ==0:\n",
    "        list_reviews_detail_final.append('no reviews')\n",
    "    print(list_reviews_detail_final)\n",
    "    \n",
    "    # get review details\n",
    "    review_card_list = soup.find_all('div',class_='col-sm-9')\n",
    "    list_card_final = []\n",
    "    for card in review_card_list:\n",
    "\n",
    "        number_total_stars_for_review = len(revieww_card.find('div',class_='listing-star-rating overall-rating mt-0').find_all('span',class_='icon-star-full'))\n",
    "\n",
    "    #     print(f'total score of review: {number_total_stars_for_review}')\n",
    "\n",
    "        review_text = card.find('div', class_='expander-txt mt-review-body-readmore review-body-text').text.replace('\\n','')\n",
    "    #     print(f'review text: {review_text}')\n",
    "        list_star_scores_for_review = card.find('div',class_='subrating-content')\n",
    "        list_scores = list_star_scores_for_review.find_all('p')\n",
    "        d_scores={}\n",
    "        for score in list_scores:\n",
    "            score_text = score.text.replace('\\n',\"\").replace('(2)',\"\")\n",
    "    #         print(score_text)\n",
    "            score_rate = len(score.find_all('span',class_='icon-star-full'))\n",
    "    #         print(score_rate)\n",
    "            d_scores[score_text] = score_rate\n",
    "        wait_time = card.find('p',class_='subrating-content').text.replace('\\n','')\n",
    "    #     print(wait_time)\n",
    "        \n",
    "        list_card_final.append((number_total_stars_for_review,review_text,d_scores,wait_time))\n",
    "    overall_score = soup.find('p',class_='mb-0 overall-rating-value').text.replace('\\n','')\n",
    "    \n",
    "    list_card_final.append(overall_score)\n",
    "    if len(list_card_final) ==0:\n",
    "        list_card_final.append('no reviews')\n",
    "    print(list_card_final)\n",
    "    print('--------------------')"
   ]
  },
  {
   "cell_type": "code",
   "execution_count": null,
   "metadata": {},
   "outputs": [],
   "source": []
  }
 ],
 "metadata": {
  "kernelspec": {
   "display_name": "Python 3",
   "language": "python",
   "name": "python3"
  },
  "language_info": {
   "codemirror_mode": {
    "name": "ipython",
    "version": 3
   },
   "file_extension": ".py",
   "mimetype": "text/x-python",
   "name": "python",
   "nbconvert_exporter": "python",
   "pygments_lexer": "ipython3",
   "version": "3.7.6"
  }
 },
 "nbformat": 4,
 "nbformat_minor": 4
}
